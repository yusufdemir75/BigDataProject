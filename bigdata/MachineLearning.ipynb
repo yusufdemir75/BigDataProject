{
 "cells": [
  {
   "cell_type": "code",
   "execution_count": 17,
   "metadata": {},
   "outputs": [
    {
     "name": "stdout",
     "output_type": "stream",
     "text": [
      "Model Doğruluğu: 0.9738066270664854\n",
      "\n",
      "Classification Report:\n",
      "               precision    recall  f1-score   support\n",
      "\n",
      "           0       0.87      0.58      0.70       729\n",
      "           1       0.98      1.00      0.99     13244\n",
      "\n",
      "    accuracy                           0.97     13973\n",
      "   macro avg       0.93      0.79      0.84     13973\n",
      "weighted avg       0.97      0.97      0.97     13973\n",
      "\n",
      "\n",
      "Özelliklerin Önem Dereceleri:\n",
      "                      Importance\n",
      "minimum_nights          0.133102\n",
      "availability_30         0.104078\n",
      "availability_365        0.081758\n",
      "review_scores_rating    0.070260\n",
      "property_type           0.068297\n",
      "longitude               0.064910\n",
      "latitude                0.063700\n",
      "number_of_reviews       0.059370\n",
      "host_name               0.056897\n",
      "host_location           0.056801\n",
      "name                    0.051174\n",
      "price                   0.050657\n",
      "host_since              0.044226\n",
      "host_acceptance_rate    0.036550\n",
      "room_type               0.035806\n",
      "maximum_nights          0.022415\n"
     ]
    }
   ],
   "source": [
    "import pandas as pd\n",
    "import numpy as np\n",
    "from sklearn.model_selection import train_test_split\n",
    "from sklearn.ensemble import RandomForestClassifier\n",
    "from sklearn.metrics import classification_report, accuracy_score\n",
    "from sklearn.preprocessing import LabelEncoder\n",
    "\n",
    "df = pd.read_csv(\"veri/dataset_with_anomalies.csv\")\n",
    "\n",
    "\n",
    "df.fillna(df.mean(), inplace=True)\n",
    "\n",
    "# Kategorik sütunlar için en yaygın değeri kullanarak doldurma\n",
    "categorical_cols = df.select_dtypes(include=['object']).columns\n",
    "for col in categorical_cols:\n",
    "    df[col].fillna(df[col].mode()[0], inplace=True)\n",
    "\n",
    "# Kategorik verileri sayısal hale getirme (Label Encoding)\n",
    "label_encoder = LabelEncoder()\n",
    "for col in categorical_cols:\n",
    "    df[col] = label_encoder.fit_transform(df[col])\n",
    "\n",
    "# Hedef değişkeni belirleme (anomaly sütunu)\n",
    "# Eğer anomaly sütunu 0 ve 1 değerleri taşıyorsa, onu hedef olarak alabiliriz\n",
    "X = df.drop('anomaly', axis=1)  # Özellikler (X)\n",
    "y = df['anomaly']  # Hedef değişken (y)\n",
    "\n",
    "# Eğitim ve test setine ayırma\n",
    "X_train, X_test, y_train, y_test = train_test_split(X, y, test_size=0.2, random_state=42)\n",
    "\n",
    "# Random Forest modelini kurma ve eğitme\n",
    "rf_model = RandomForestClassifier(n_estimators=100, random_state=42)\n",
    "rf_model.fit(X_train, y_train)\n",
    "\n",
    "# Test seti üzerinde tahmin yapma\n",
    "y_pred = rf_model.predict(X_test)\n",
    "\n",
    "# Model performansını değerlendirme\n",
    "print(\"Model Doğruluğu:\", accuracy_score(y_test, y_pred))\n",
    "print(\"\\nClassification Report:\\n\", classification_report(y_test, y_pred))\n",
    "\n",
    "# Feature Importance (Özelliklerin Önem Dereceleri)\n",
    "feature_importances = pd.DataFrame(rf_model.feature_importances_,\n",
    "                                   index=X.columns,\n",
    "                                   columns=['Importance']).sort_values('Importance', ascending=False)\n",
    "\n",
    "print(\"\\nÖzelliklerin Önem Dereceleri:\")\n",
    "print(feature_importances)\n"
   ]
  }
 ],
 "metadata": {
  "kernelspec": {
   "display_name": "Python 3",
   "language": "python",
   "name": "python3"
  },
  "language_info": {
   "codemirror_mode": {
    "name": "ipython",
    "version": 3
   },
   "file_extension": ".py",
   "mimetype": "text/x-python",
   "name": "python",
   "nbconvert_exporter": "python",
   "pygments_lexer": "ipython3",
   "version": "3.12.8"
  }
 },
 "nbformat": 4,
 "nbformat_minor": 2
}
